{
 "cells": [
  {
   "cell_type": "markdown",
   "metadata": {
    "colab_type": "text",
    "id": "vifikZP8KHek"
   },
   "source": [
    "# Assignment link: bit.ly/fuseai3\n",
    "# Assignment Questions: tiny.cc/fuseai3"
   ]
  },
  {
   "cell_type": "markdown",
   "metadata": {
    "colab_type": "text",
    "id": "BPzZYIR_KGsG"
   },
   "source": [
    "# Intro to Regression"
   ]
  },
  {
   "cell_type": "markdown",
   "metadata": {
    "colab_type": "text",
    "id": "btSJ0teXKBM5"
   },
   "source": [
    "## Linear Regression for one-feature, one-output data"
   ]
  },
  {
   "cell_type": "code",
   "execution_count": 0,
   "metadata": {
    "colab": {},
    "colab_type": "code",
    "id": "tVdTJPhhKGsI"
   },
   "outputs": [],
   "source": [
    "# import some of the libraries essential for numeric calculations, data manipulation, and graphs\n",
    "import numpy as np  \n",
    "import pandas as pd\n",
    "import matplotlib.pyplot as plt"
   ]
  },
  {
   "cell_type": "code",
   "execution_count": 0,
   "metadata": {
    "colab": {},
    "colab_type": "code",
    "id": "yWtqNI6fKGsN"
   },
   "outputs": [],
   "source": [
    "%matplotlib inline"
   ]
  },
  {
   "cell_type": "markdown",
   "metadata": {
    "colab_type": "text",
    "id": "0RaynI6lKGsP"
   },
   "source": [
    "First, we need some data with which we can practice Linear Regression. We will generate a data that would be useful for this without needing to worry too much about multiple `features`. We will start with a single `feature` linear regression."
   ]
  },
  {
   "cell_type": "markdown",
   "metadata": {
    "colab_type": "text",
    "id": "sltHrGZeLYpw"
   },
   "source": [
    "### Dummy Data Generation and plotting"
   ]
  },
  {
   "cell_type": "code",
   "execution_count": 0,
   "metadata": {
    "colab": {
     "base_uri": "https://localhost:8080/",
     "height": 297
    },
    "colab_type": "code",
    "id": "XOu_rq7rKGsQ",
    "outputId": "5d7de982-dc57-4da9-9a83-7c2342d298e0"
   },
   "outputs": [
    {
     "data": {
      "text/plain": [
       "<matplotlib.collections.PathCollection at 0x7f8b37e760b8>"
      ]
     },
     "execution_count": 3,
     "metadata": {
      "tags": []
     },
     "output_type": "execute_result"
    },
    {
     "data": {
      "image/png": "[encoded data removed]",
      "text/plain": [
       "<Figure size 432x288 with 1 Axes>"
      ]
     },
     "metadata": {
      "tags": []
     },
     "output_type": "display_data"
    }
   ],
   "source": [
    "# Generating the data\n",
    "X = np.linspace(1,10,100)\n",
    "y = X*2 + np.random.randn(100)\n",
    "\n",
    "#labelling the axes. Labels are what are written along the axis spines.\n",
    "plt.ylabel('Data to be predicted')\n",
    "plt.xlabel('Data with which we conduct predictions')\n",
    "plt.xticks(np.arange(1,11),rotation=90)\n",
    "# plotting the graph\n",
    "plt.scatter(X,y,color='r',s=10)"
   ]
  },
  {
   "cell_type": "markdown",
   "metadata": {
    "colab_type": "text",
    "id": "Y2YgeCQ2tTJx"
   },
   "source": [
    "### Building a model to fit the data"
   ]
  },
  {
   "cell_type": "markdown",
   "metadata": {
    "colab_type": "text",
    "id": "PK1_mp2bKGsW"
   },
   "source": [
    "We see that the data follows a somewhat linear path. But with this sort of data, we can conduct linear regression to predict what the `Y-value` will be when the `X-value` is present. To understand what we're doing conceptually, we take note of the errors in our data. We can do this as we have artificially introduced errors into the dataset."
   ]
  },
  {
   "cell_type": "code",
   "execution_count": 0,
   "metadata": {
    "colab": {},
    "colab_type": "code",
    "id": "RoO9I8r9KGsY"
   },
   "outputs": [],
   "source": [
    "# The amount by which our present data may lie off from our fitted line\n",
    "errors = y - X*2 # visualise using a bar chart, if needed"
   ]
  },
  {
   "cell_type": "markdown",
   "metadata": {
    "colab_type": "text",
    "id": "oAl5ui2hKGsb"
   },
   "source": [
    "Then we plot the errors to better visualize what our data looks like"
   ]
  },
  {
   "cell_type": "code",
   "execution_count": 0,
   "metadata": {
    "colab": {},
    "colab_type": "code",
    "id": "6YJnbzm6KGsg"
   },
   "outputs": [],
   "source": [
    "from sklearn.linear_model import LinearRegression"
   ]
  },
  {
   "cell_type": "code",
   "execution_count": 0,
   "metadata": {
    "colab": {},
    "colab_type": "code",
    "id": "iQrXRwvXKGsj"
   },
   "outputs": [],
   "source": [
    "regressor = LinearRegression(fit_intercept=True)"
   ]
  },
  {
   "cell_type": "markdown",
   "metadata": {
    "colab_type": "text",
    "id": "vpyvKOQVKGsn"
   },
   "source": [
    "First, we split the data into our training set and out test set. We need to do this to check the accuracy of our predictive power.\n",
    "Here, `X_train` and `y-train` will be the data that we use to train our model.\n",
    "`X_test` and `y_test` are the subsets of the original data that we use to check if our model performed properly."
   ]
  },
  {
   "cell_type": "code",
   "execution_count": 0,
   "metadata": {
    "colab": {},
    "colab_type": "code",
    "id": "BDvDXV62KGso"
   },
   "outputs": [],
   "source": [
    "X_train = X[:70].reshape(-1,1) # with reshape, we convert our data from 1D to 2D as required by LinearRegression()\n",
    "y_train = y[:70]\n",
    "\n",
    "X_test = X[70:].reshape(-1,1)\n",
    "y_test = y[70:]"
   ]
  },
  {
   "cell_type": "markdown",
   "metadata": {
    "colab_type": "text",
    "id": "5PJ3XlZcuEvT"
   },
   "source": [
    "The following code trains our linear regression model on our training data."
   ]
  },
  {
   "cell_type": "code",
   "execution_count": 0,
   "metadata": {
    "colab": {
     "base_uri": "https://localhost:8080/",
     "height": 50
    },
    "colab_type": "code",
    "id": "5z3LHpyOKGsr",
    "outputId": "d88260c8-4809-4507-da1c-71312fd58aa1"
   },
   "outputs": [
    {
     "data": {
      "text/plain": [
       "LinearRegression(copy_X=True, fit_intercept=True, n_jobs=None,\n",
       "         normalize=False)"
      ]
     },
     "execution_count": 8,
     "metadata": {
      "tags": []
     },
     "output_type": "execute_result"
    }
   ],
   "source": [
    "regressor.fit(X_train,y_train)"
   ]
  },
  {
   "cell_type": "markdown",
   "metadata": {
    "colab_type": "text",
    "id": "VXLcXHYCuKZH"
   },
   "source": [
    "`y_pred` contains whatever value the model predicts in place of `y_test`. For the prediction, we feed the feature `X_test` into our model `regressor`."
   ]
  },
  {
   "cell_type": "code",
   "execution_count": 0,
   "metadata": {
    "colab": {},
    "colab_type": "code",
    "id": "uP0qkIdKKGsv"
   },
   "outputs": [],
   "source": [
    "y_pred = regressor.predict(X_test)"
   ]
  },
  {
   "cell_type": "markdown",
   "metadata": {
    "colab_type": "text",
    "id": "txSCY0RBue3q"
   },
   "source": [
    "Now, we show what sort of model we built. Here, we have extracted the weight (slope) and bias (intercept) that was 'learnt' by the model. We've manually constructed the line ourselves here."
   ]
  },
  {
   "cell_type": "code",
   "execution_count": 0,
   "metadata": {
    "colab": {
     "base_uri": "https://localhost:8080/",
     "height": 297
    },
    "colab_type": "code",
    "id": "RKKiSD4bEp-O",
    "outputId": "c90655bf-0326-42b9-edb1-ec192702ec00"
   },
   "outputs": [
    {
     "data": {
      "text/plain": [
       "[<matplotlib.lines.Line2D at 0x7f8b324039b0>,\n",
       " <matplotlib.lines.Line2D at 0x7f8b32403b38>]"
      ]
     },
     "execution_count": 12,
     "metadata": {
      "tags": []
     },
     "output_type": "execute_result"
    },
    {
     "data": {
      "image/png": "[encoded data removed]",
      "text/plain": [
       "<Figure size 432x288 with 1 Axes>"
      ]
     },
     "metadata": {
      "tags": []
     },
     "output_type": "display_data"
    }
   ],
   "source": [
    "weight = regressor.coef_\n",
    "bias = regressor.intercept_\n",
    "plt.plot(X,bias + weight*X,X,y,'r.')"
   ]
  },
  {
   "cell_type": "markdown",
   "metadata": {
    "colab_type": "text",
    "id": "kzNVn2Iz1DO5"
   },
   "source": [
    "The model that we created is just a bunch of weights assigned to our input variables."
   ]
  },
  {
   "cell_type": "code",
   "execution_count": 0,
   "metadata": {
    "colab": {
     "base_uri": "https://localhost:8080/",
     "height": 34
    },
    "colab_type": "code",
    "id": "0-L2PADTcJ_k",
    "outputId": "8513ced8-4eec-41b8-8ee7-2868481357f2"
   },
   "outputs": [
    {
     "data": {
      "text/plain": [
       "array([1.90725207])"
      ]
     },
     "execution_count": 12,
     "metadata": {
      "tags": []
     },
     "output_type": "execute_result"
    }
   ],
   "source": [
    "weight"
   ]
  },
  {
   "cell_type": "markdown",
   "metadata": {
    "colab_type": "text",
    "id": "Zia4D4ygKGsy"
   },
   "source": [
    "We can conduct a simple calculation to see how well our model predicts the data. We know that the model can't be prefect but we can understand how accurately our model can predict the data. Here, we use a simple metric called mean of sum of squares ( $MSE$ ) to figure our the relative error of our model. <br>\n",
    "\n",
    "We denote `y_pred` as $\\hat Y$, `y_test` as $Y$, and number of elements as $n$.\n",
    "\n",
    "$${\\displaystyle \\operatorname {MSE} ={\\frac {1}{n}}\\sum _{i=1}^{n}(Y_{i}-{\\hat {Y_{i}}})^{2}.} $$\n",
    "\n",
    "We implement this as follows"
   ]
  },
  {
   "cell_type": "code",
   "execution_count": 0,
   "metadata": {
    "colab": {
     "base_uri": "https://localhost:8080/",
     "height": 50
    },
    "colab_type": "code",
    "id": "2RWB0xTDKGsz",
    "outputId": "5578f791-2b03-44ea-f73f-1d535b57c2f3"
   },
   "outputs": [
    {
     "name": "stdout",
     "output_type": "stream",
     "text": [
      "Mean Sum of Squares: 0.8690007505688739\n",
      "Mean Sum of Squares (using library function): 0.8690007505688739\n"
     ]
    }
   ],
   "source": [
    "MSE = (sum((y_pred - y_test)**2))/len(y_test)\n",
    "print(\"Mean Sum of Squares:\",MSE)\n",
    "\n",
    "# using the library function\n",
    "from sklearn.metrics import mean_squared_error\n",
    "print(\"Mean Sum of Squares (using library function):\",mean_squared_error(y_test,y_pred))"
   ]
  },
  {
   "cell_type": "markdown",
   "metadata": {
    "colab_type": "text",
    "id": "CmRh-17LKGs2"
   },
   "source": [
    "Now, we use some actual, real-world data to understand how regression works.\n",
    "We will use the Boston Housing Data set. This data set uses several features of a house and the area to predict the price of a house in Boston. This data set is included in the `scikit-learn` module"
   ]
  },
  {
   "cell_type": "markdown",
   "metadata": {
    "colab_type": "text",
    "id": "YpHa8WXAKGs3"
   },
   "source": [
    "# The Boston Housing Data set\n",
    "The data set we built previously only contains one feature. This housing dataset contains multiple features. This means that the model should work with multiple regression coefficients and also deal with multicollinearity."
   ]
  },
  {
   "cell_type": "code",
   "execution_count": 0,
   "metadata": {
    "colab": {},
    "colab_type": "code",
    "id": "2VJhPe5gKGs5"
   },
   "outputs": [],
   "source": [
    "# first, we import the module scikit-learn with the following command\n",
    "import sklearn as sk"
   ]
  },
  {
   "cell_type": "code",
   "execution_count": 0,
   "metadata": {
    "colab": {},
    "colab_type": "code",
    "id": "4xxbrbXvKGs9"
   },
   "outputs": [],
   "source": [
    "# Then, we import the boston housing dataset from sklearn.\n",
    "from sklearn.datasets import load_boston"
   ]
  },
  {
   "cell_type": "markdown",
   "metadata": {
    "colab_type": "text",
    "id": "tz_BaWjD_z7P"
   },
   "source": [
    "Print the Description attribute that the sklearn module provides with its datasets classes. It explains what the data is, how one should go about using it and what its different feature variables represent."
   ]
  },
  {
   "cell_type": "code",
   "execution_count": 0,
   "metadata": {
    "colab": {
     "base_uri": "https://localhost:8080/",
     "height": 886
    },
    "colab_type": "code",
    "id": "19YbxigHKGtC",
    "outputId": "8fde153d-2887-4d71-d643-1c5b916fca72"
   },
   "outputs": [
    {
     "name": "stdout",
     "output_type": "stream",
     "text": [
      ".. _boston_dataset:\n",
      "\n",
      "Boston house prices dataset\n",
      "---------------------------\n",
      "\n",
      "**Data Set Characteristics:**  \n",
      "\n",
      "    :Number of Instances: 506 \n",
      "\n",
      "    :Number of Attributes: 13 numeric/categorical predictive. Median Value (attribute 14) is usually the target.\n",
      "\n",
      "    :Attribute Information (in order):\n",
      "        - CRIM     per capita crime rate by town\n",
      "        - ZN       proportion of residential land zoned for lots over 25,000 sq.ft.\n",
      "        - INDUS    proportion of non-retail business acres per town\n",
      "        - CHAS     Charles River dummy variable (= 1 if tract bounds river; 0 otherwise)\n",
      "        - NOX      nitric oxides concentration (parts per 10 million)\n",
      "        - RM       average number of rooms per dwelling\n",
      "        - AGE      proportion of owner-occupied units built prior to 1940\n",
      "        - DIS      weighted distances to five Boston employment centres\n",
      "        - RAD      index of accessibility to radial highways\n",
      "        - TAX      full-value property-tax rate per $10,000\n",
      "        - PTRATIO  pupil-teacher ratio by town\n",
      "        - B        1000(Bk - 0.63)^2 where Bk is the proportion of blacks by town\n",
      "        - LSTAT    % lower status of the population\n",
      "        - MEDV     Median value of owner-occupied homes in $1000's\n",
      "\n",
      "    :Missing Attribute Values: None\n",
      "\n",
      "    :Creator: Harrison, D. and Rubinfeld, D.L.\n",
      "\n",
      "This is a copy of UCI ML housing dataset.\n",
      "https://archive.ics.uci.edu/ml/machine-learning-databases/housing/\n",
      "\n",
      "\n",
      "This dataset was taken from the StatLib library which is maintained at Carnegie Mellon University.\n",
      "\n",
      "The Boston house-price data of Harrison, D. and Rubinfeld, D.L. 'Hedonic\n",
      "prices and the demand for clean air', J. Environ. Economics & Management,\n",
      "vol.5, 81-102, 1978.   Used in Belsley, Kuh & Welsch, 'Regression diagnostics\n",
      "...', Wiley, 1980.   N.B. Various transformations are used in the table on\n",
      "pages 244-261 of the latter.\n",
      "\n",
      "The Boston house-price data has been used in many machine learning papers that address regression\n",
      "problems.   \n",
      "     \n",
      ".. topic:: References\n",
      "\n",
      "   - Belsley, Kuh & Welsch, 'Regression diagnostics: Identifying Influential Data and Sources of Collinearity', Wiley, 1980. 244-261.\n",
      "   - Quinlan,R. (1993). Combining Instance-Based and Model-Based Learning. In Proceedings on the Tenth International Conference of Machine Learning, 236-243, University of Massachusetts, Amherst. Morgan Kaufmann.\n",
      "\n"
     ]
    }
   ],
   "source": [
    "print(load_boston().DESCR) # to print the description of the data set that we can use"
   ]
  },
  {
   "cell_type": "code",
   "execution_count": 0,
   "metadata": {
    "colab": {},
    "colab_type": "code",
    "id": "4z8edbZSvOey"
   },
   "outputs": [],
   "source": [
    "housing = pd.DataFrame(load_boston().data, columns = load_boston().feature_names)\n",
    "target = load_boston().target"
   ]
  },
  {
   "cell_type": "code",
   "execution_count": 0,
   "metadata": {
    "colab": {},
    "colab_type": "code",
    "id": "Q_XHXvZ_KGtI"
   },
   "outputs": [],
   "source": [
    "housing = pd.DataFrame(load_boston().data, columns=load_boston().feature_names)\n",
    "housing['target'] = load_boston().target\n",
    "targets = load_boston().target"
   ]
  },
  {
   "cell_type": "code",
   "execution_count": 0,
   "metadata": {
    "colab": {},
    "colab_type": "code",
    "id": "7Alzm41jwu6N"
   },
   "outputs": [],
   "source": [
    "housing.describe()"
   ]
  },
  {
   "cell_type": "markdown",
   "metadata": {
    "colab_type": "text",
    "id": "eVPfMJHzoUMF"
   },
   "source": [
    "We would learn a lot about the data once we visualize it. So, we follow the steps outlined in this guide for a proper start at analysis and visualization.\n",
    "For this, we import a plotting library. We previously used `matplotlib.pyplot`. Now, we will use a more powerful library called `seaborn` which is built on top of `matplotlib`. But before that, we attempt to analyze the data."
   ]
  },
  {
   "cell_type": "code",
   "execution_count": 0,
   "metadata": {
    "colab": {
     "base_uri": "https://localhost:8080/",
     "height": 255
    },
    "colab_type": "code",
    "id": "3CnjVwosp320",
    "outputId": "17399dc5-2474-4694-ffa5-8bf0013d3d10"
   },
   "outputs": [
    {
     "data": {
      "text/plain": [
       "RM         0.695360\n",
       "ZN         0.360445\n",
       "B          0.333461\n",
       "DIS        0.249929\n",
       "CHAS       0.175260\n",
       "AGE       -0.376955\n",
       "RAD       -0.381626\n",
       "CRIM      -0.388305\n",
       "NOX       -0.427321\n",
       "TAX       -0.468536\n",
       "INDUS     -0.483725\n",
       "PTRATIO   -0.507787\n",
       "LSTAT     -0.737663\n",
       "Name: target, dtype: float64"
      ]
     },
     "execution_count": 20,
     "metadata": {
      "tags": []
     },
     "output_type": "execute_result"
    }
   ],
   "source": [
    "# Establish preliminary correlations\n",
    "pearson_corr = housing.corr(method='pearson')\n",
    "corr_target = pearson_corr.iloc[-1][:-1].sort_values(ascending=False)\n",
    "corr_target"
   ]
  },
  {
   "cell_type": "code",
   "execution_count": 0,
   "metadata": {
    "colab": {
     "base_uri": "https://localhost:8080/",
     "height": 255
    },
    "colab_type": "code",
    "id": "xUa9-ochrqtI",
    "outputId": "281e8b7b-a940-40b7-afbf-36b01bbc0a2b"
   },
   "outputs": [
    {
     "data": {
      "text/plain": [
       "LSTAT     -0.737663\n",
       "RM         0.695360\n",
       "PTRATIO   -0.507787\n",
       "INDUS     -0.483725\n",
       "TAX       -0.468536\n",
       "NOX       -0.427321\n",
       "CRIM      -0.388305\n",
       "RAD       -0.381626\n",
       "AGE       -0.376955\n",
       "ZN         0.360445\n",
       "B          0.333461\n",
       "DIS        0.249929\n",
       "CHAS       0.175260\n",
       "Name: target, dtype: float64"
      ]
     },
     "execution_count": 21,
     "metadata": {
      "tags": []
     },
     "output_type": "execute_result"
    }
   ],
   "source": [
    "corr_target[abs(corr_target).argsort()[::-1]]"
   ]
  },
  {
   "cell_type": "code",
   "execution_count": 0,
   "metadata": {
    "colab": {},
    "colab_type": "code",
    "id": "fGJguDTBsaU_"
   },
   "outputs": [],
   "source": [
    "# correlations between features\n",
    "corr_without_target = pearson_corr.iloc[:-1,:-1]\n",
    "# threshold = 0.5 # correlations smaller than this aren't recorded\n",
    "\n",
    "# significant_corr = dict()\n",
    "\n",
    "# for rows in corr_without_target.keys():\n",
    "#   for cols in corr_without_target[rows].keys():\n",
    "#     if((rows is not cols) and (corr_without_target[rows][cols] >= threshold)):\n",
    "#       significant_corr[rows,cols] = corr_without_target[rows][cols]\n",
    "# print(significant_corr)"
   ]
  },
  {
   "cell_type": "code",
   "execution_count": 0,
   "metadata": {
    "colab": {},
    "colab_type": "code",
    "id": "e3OrKa9F9-gu"
   },
   "outputs": [],
   "source": [
    "import seaborn as sns"
   ]
  },
  {
   "cell_type": "code",
   "execution_count": 0,
   "metadata": {
    "colab": {
     "base_uri": "https://localhost:8080/",
     "height": 609
    },
    "colab_type": "code",
    "id": "6lynrFfF-C1w",
    "outputId": "41930c8e-a9a6-4a85-c6b1-d121bb3b2464"
   },
   "outputs": [
    {
     "data": {
      "text/plain": [
       "<matplotlib.axes._subplots.AxesSubplot at 0x7fe8b6e4d0b8>"
      ]
     },
     "execution_count": 24,
     "metadata": {
      "tags": []
     },
     "output_type": "execute_result"
    },
    {
     "data": {
      "image/png": "[encoded data removed]",
      "text/plain": [
       "<Figure size 720x720 with 2 Axes>"
      ]
     },
     "metadata": {
      "tags": []
     },
     "output_type": "display_data"
    }
   ],
   "source": [
    "fig, ax = plt.subplots(figsize=(10,10))\n",
    "sns.heatmap(corr_without_target,ax=ax)"
   ]
  },
  {
   "cell_type": "code",
   "execution_count": 0,
   "metadata": {
    "colab": {
     "base_uri": "https://localhost:8080/",
     "height": 509
    },
    "colab_type": "code",
    "id": "koLW2vB2APtv",
    "outputId": "e41aff51-344f-4157-e1a9-c2215e65d4fb"
   },
   "outputs": [
    {
     "name": "stderr",
     "output_type": "stream",
     "text": [
      "/usr/local/lib/python3.6/dist-packages/matplotlib/axes/_axes.py:6521: MatplotlibDeprecationWarning: \n",
      "The 'normed' kwarg was deprecated in Matplotlib 2.1 and will be removed in 3.1. Use 'density' instead.\n",
      "  alternative=\"'density'\", removal=\"3.1\")\n"
     ]
    },
    {
     "data": {
      "text/plain": [
       "<seaborn.axisgrid.JointGrid at 0x7fe8b6e2bcf8>"
      ]
     },
     "execution_count": 26,
     "metadata": {
      "tags": []
     },
     "output_type": "execute_result"
    },
    {
     "data": {
      "image/png": "[encoded data removed]",
      "text/plain": [
       "<Figure size 432x432 with 3 Axes>"
      ]
     },
     "metadata": {
      "tags": []
     },
     "output_type": "display_data"
    }
   ],
   "source": [
    "sns.jointplot(housing.DIS, housing.NOX, kind='reg')"
   ]
  },
  {
   "cell_type": "markdown",
   "metadata": {
    "colab_type": "text",
    "id": "qkDgBZD7mgWc"
   },
   "source": [
    "When the data contains features that are highly correlated, better results will be produced if those correlations are controlled for by proper feature selection. Ideally, we would want completely independent features to build our model."
   ]
  },
  {
   "cell_type": "code",
   "execution_count": 0,
   "metadata": {
    "colab": {},
    "colab_type": "code",
    "id": "gc0GprnEKGtU"
   },
   "outputs": [],
   "source": [
    "# The following function does what we manually did to split the data earlier\n",
    "from sklearn.model_selection import train_test_split"
   ]
  },
  {
   "cell_type": "code",
   "execution_count": 0,
   "metadata": {
    "colab": {},
    "colab_type": "code",
    "id": "NFLBDmPAKGtZ"
   },
   "outputs": [],
   "source": [
    "housing_without_targets = housing.drop('target',axis=1)\n",
    "X_train, X_test, y_train, y_test = \\\n",
    "    train_test_split(housing_without_targets, targets, test_size = 0.3, random_state = 1)"
   ]
  },
  {
   "cell_type": "markdown",
   "metadata": {
    "colab_type": "text",
    "id": "cuIwTG8QRz09"
   },
   "source": [
    "Alternatively, we could directly import the training features and output by using the following code:\n",
    "```python\n",
    "from sklearn.datasets import load_boston\n",
    "housing = load_boston().data\n",
    "targets = load_boston().target\n",
    "X_train, X_test, y_train, y_test = train_test_split(housing, target)\n",
    "```"
   ]
  },
  {
   "cell_type": "markdown",
   "metadata": {
    "colab_type": "text",
    "id": "dWDXmGEAAz5a"
   },
   "source": [
    "Then, we import the LinearRegression function from the `sklearn.linear_model` module"
   ]
  },
  {
   "cell_type": "code",
   "execution_count": 0,
   "metadata": {
    "colab": {},
    "colab_type": "code",
    "id": "bvA4m1BTKGtg"
   },
   "outputs": [],
   "source": [
    "from sklearn.linear_model import LinearRegression"
   ]
  },
  {
   "cell_type": "code",
   "execution_count": 0,
   "metadata": {
    "colab": {},
    "colab_type": "code",
    "id": "mdkoihTEKGti"
   },
   "outputs": [],
   "source": [
    "regressor = LinearRegression(fit_intercept=True)"
   ]
  },
  {
   "cell_type": "code",
   "execution_count": 0,
   "metadata": {
    "colab": {
     "base_uri": "https://localhost:8080/",
     "height": 50
    },
    "colab_type": "code",
    "id": "5SyKSM49KGtk",
    "outputId": "768cc2c1-97eb-431c-d996-bdaf2a4fa2de"
   },
   "outputs": [
    {
     "data": {
      "text/plain": [
       "LinearRegression(copy_X=True, fit_intercept=True, n_jobs=None,\n",
       "         normalize=False)"
      ]
     },
     "execution_count": 32,
     "metadata": {
      "tags": []
     },
     "output_type": "execute_result"
    }
   ],
   "source": [
    "regressor.fit(X_train, y_train)"
   ]
  },
  {
   "cell_type": "code",
   "execution_count": 0,
   "metadata": {
    "colab": {},
    "colab_type": "code",
    "id": "OgFRyYHRKGtn"
   },
   "outputs": [],
   "source": [
    "y_pred = regressor.predict(X_test)"
   ]
  },
  {
   "cell_type": "code",
   "execution_count": 0,
   "metadata": {
    "colab": {},
    "colab_type": "code",
    "id": "LjaWXL5iKGts"
   },
   "outputs": [],
   "source": [
    "# Then, we calculate the error in our prediction to test how well the model performs using the MSE or the mean_squared_error\n",
    "from sklearn.metrics import mean_squared_error, r2_score"
   ]
  },
  {
   "cell_type": "code",
   "execution_count": 0,
   "metadata": {
    "colab": {
     "base_uri": "https://localhost:8080/",
     "height": 66
    },
    "colab_type": "code",
    "id": "3lkKczjLKGtu",
    "outputId": "cd1d5129-319d-4282-d399-93d7c1780a89"
   },
   "outputs": [
    {
     "name": "stdout",
     "output_type": "stream",
     "text": [
      "Mean squared error with LinearRegressor(): \n",
      " 19.831323672062922 \n",
      "Our model explains 78.4% of our data\n"
     ]
    }
   ],
   "source": [
    "print(\"Mean squared error with LinearRegressor(): \\n\",mean_squared_error(y_test, y_pred),\n",
    "      \"\\nOur model explains {:.1f}\".format(\n",
    "r2_score(y_test,y_pred)*100)+\"% of our data\")"
   ]
  },
  {
   "cell_type": "markdown",
   "metadata": {
    "colab_type": "text",
    "id": "haixQFZPUihJ"
   },
   "source": [
    "## Overfitting and Underfitting\n",
    "While building a model, it is important to check whether the model performs well. This means that the model must be able to generalize beyond the present training data. To do this, the model must capture the actual structure of the data well enough. It must be able to ignore the noise in the data.\n",
    "![](https://scikit-learn.org/stable/_images/sphx_glr_plot_underfitting_overfitting_001.png)\n",
    "[The documentation](https://scikit-learn.org/stable/auto_examples/model_selection/plot_underfitting_overfitting.html) has a more elaborate description.\n",
    "***\n",
    "**_Important_**\n",
    "\n",
    "Bear in mind that you do **NOT** have to completely understand the following code. The main goal of the following section is to understand the concept of overfit/underfit graphically. You may, however, use the code to understand how a polynomial fit might work. \n",
    "***"
   ]
  },
  {
   "cell_type": "code",
   "execution_count": 0,
   "metadata": {
    "colab": {
     "base_uri": "https://localhost:8080/",
     "height": 281
    },
    "colab_type": "code",
    "id": "8pmDZ77ZVz6h",
    "outputId": "bd58353c-4d06-4fae-bf3e-0857ca2b03a5"
   },
   "outputs": [
    {
     "data": {
      "text/plain": [
       "<matplotlib.legend.Legend at 0x7f8b31d10518>"
      ]
     },
     "execution_count": 38,
     "metadata": {
      "tags": []
     },
     "output_type": "execute_result"
    },
    {
     "data": {
      "image/png": "[encoded data removed]",
      "text/plain": [
       "<Figure size 432x288 with 1 Axes>"
      ]
     },
     "metadata": {
      "tags": []
     },
     "output_type": "display_data"
    }
   ],
   "source": [
    "# for a function f(x):\n",
    "def f(x):\n",
    "  \"\"\"This is the true function. This is what the model must predict.\n",
    "  The rest is just noise that the model must ignore.\n",
    "  You may try out different functions with Range(1,20).\n",
    "  Change the returned expression to any other polynomial function.\"\"\"\n",
    "  return x**2\n",
    "# let's understand this problem with a trivial dataset\n",
    "# create a random dataset that would fit to a polynomial regressor\n",
    "X = np.linspace(1,20,30)\n",
    "y = f(X) + 15*np.random.randn(30)\n",
    "\n",
    "# split the train and test data\n",
    "\n",
    "X_train,X_test,y_train, y_test = train_test_split(X,y,shuffle=False)\n",
    "\n",
    "# plot the data\n",
    "plt.plot(X_train,y_train,'r.',label = 'Training data')\n",
    "#True function plot\n",
    "plt.plot(np.linspace(1,14),f(np.linspace(1,14)),label='True Function',c='orange')\n",
    "plt.legend()"
   ]
  },
  {
   "cell_type": "markdown",
   "metadata": {
    "colab_type": "text",
    "id": "nuaNrm4IfmE0"
   },
   "source": [
    "### Underfitting\n",
    "The following is how our model might actually underfit when using a linear model on a non-linear dataset"
   ]
  },
  {
   "cell_type": "code",
   "execution_count": 0,
   "metadata": {
    "colab": {},
    "colab_type": "code",
    "id": "2PHlRvyneSDc"
   },
   "outputs": [],
   "source": [
    "reg = LinearRegression(fit_intercept=True)"
   ]
  },
  {
   "cell_type": "code",
   "execution_count": 0,
   "metadata": {
    "colab": {
     "base_uri": "https://localhost:8080/",
     "height": 50
    },
    "colab_type": "code",
    "id": "l-d9i2lodLxq",
    "outputId": "19664fb0-055b-4986-bb7b-7a23f7d7e9b6"
   },
   "outputs": [
    {
     "data": {
      "text/plain": [
       "LinearRegression(copy_X=True, fit_intercept=True, n_jobs=None,\n",
       "         normalize=False)"
      ]
     },
     "execution_count": 41,
     "metadata": {
      "tags": []
     },
     "output_type": "execute_result"
    }
   ],
   "source": [
    "# we can try to fit a LinearRegression function on this\n",
    "reg.fit(X_train.reshape(-1,1),y_train)"
   ]
  },
  {
   "cell_type": "code",
   "execution_count": 0,
   "metadata": {
    "colab": {
     "base_uri": "https://localhost:8080/",
     "height": 310
    },
    "colab_type": "code",
    "id": "PIsjqNMMdk-G",
    "outputId": "8523f56c-9d1d-430b-eb2f-3741d60d6d87"
   },
   "outputs": [
    {
     "data": {
      "text/plain": [
       "Text(0.5, 1.0, 'MSE on train: 299.9558562830046\\nMSE on test: 9725.433102678162')"
      ]
     },
     "execution_count": 42,
     "metadata": {
      "tags": []
     },
     "output_type": "execute_result"
    },
    {
     "data": {
      "image/png": "[encoded data removed]",
      "text/plain": [
       "<Figure size 432x288 with 1 Axes>"
      ]
     },
     "metadata": {
      "tags": []
     },
     "output_type": "display_data"
    }
   ],
   "source": [
    "# data that the model predicts\n",
    "y_pred = reg.predict(X_test.reshape(-1,1))\n",
    "\n",
    "# plotting the model\n",
    "# data looks like this\n",
    "plt.plot(X_train,y_train,'r.',label = 'Training Data')\n",
    "\n",
    "# our fitted line in 2D looks like this\n",
    "plt.plot(X_train,reg.predict(X_train.reshape(-1,1)),label='Model',c='blue')\n",
    "plt.plot(np.linspace(1,14),f(np.linspace(1,14)),label='True Function',c='orange')\n",
    "plt.legend()\n",
    "plt.title(\n",
    "    label = \"MSE on train: {}\".format(mean_squared_error(y_train,reg.predict(X_train.reshape(-1,1)))) + \n",
    "    \"\\nMSE on test: {}\".format(mean_squared_error(y_test,y_pred))\n",
    ")"
   ]
  },
  {
   "cell_type": "markdown",
   "metadata": {
    "colab_type": "text",
    "id": "YPoPJ7qme-Qj"
   },
   "source": [
    "We can control the underfit by introducing a polynomial model."
   ]
  },
  {
   "cell_type": "code",
   "execution_count": 0,
   "metadata": {
    "colab": {
     "base_uri": "https://localhost:8080/",
     "height": 311
    },
    "colab_type": "code",
    "id": "dsELiY9vf3OJ",
    "outputId": "95a727d3-1c27-4130-85af-b15f6f2b3830"
   },
   "outputs": [
    {
     "data": {
      "text/plain": [
       "Text(0.5, 1.0, 'MSE on training data: 203.71903115552306\\nMSE on test data: 243.3369460445794')"
      ]
     },
     "execution_count": 75,
     "metadata": {
      "tags": []
     },
     "output_type": "execute_result"
    },
    {
     "data": {
      "image/png": "[encoded data removed]",
      "text/plain": [
       "<Figure size 432x288 with 1 Axes>"
      ]
     },
     "metadata": {
      "tags": []
     },
     "output_type": "display_data"
    }
   ],
   "source": [
    "from sklearn.preprocessing import PolynomialFeatures\n",
    "\n",
    "poly = PolynomialFeatures(2)\n",
    "reg = LinMod.LinearRegression()\n",
    "X_trans = poly.fit_transform(X_train.reshape(-1,1))\n",
    "reg.fit(X_trans,y_train)\n",
    "\n",
    "# plotting the polynomial fit\n",
    "y_pred = reg.predict(poly.fit_transform(X_test.reshape(-1,1)))\n",
    "plt.plot(X_train,y_train,'r.',label='Training data')\n",
    "plt.plot(X_train, reg.predict(X_trans),c='blue',label='Model') # polynomial fit represented by blue line\n",
    "\n",
    "# True Function\n",
    "plt.plot(np.linspace(1,14),f(np.linspace(1,14)),label='True Function',c='orange')\n",
    "plt.legend()\n",
    "\n",
    "plt.title(\n",
    "    label = \"MSE on training data: {}\".format(mean_squared_error(y_train,reg.predict(poly.fit_transform(X_train.reshape(-1,1))))) +\n",
    "    \"\\nMSE on test data: {}\".format(mean_squared_error(y_test,reg.predict(poly.fit_transform(X_test.reshape(-1,1)))))\n",
    ")\n"
   ]
  },
  {
   "cell_type": "markdown",
   "metadata": {
    "colab_type": "text",
    "id": "j3yVdfTslUi4"
   },
   "source": [
    "### Overfitting"
   ]
  },
  {
   "cell_type": "code",
   "execution_count": 0,
   "metadata": {
    "colab": {
     "base_uri": "https://localhost:8080/",
     "height": 311
    },
    "colab_type": "code",
    "id": "hMLmymNfdb7-",
    "outputId": "d2fac6c2-f82b-42e0-d5ea-d410a6db1b45"
   },
   "outputs": [
    {
     "data": {
      "text/plain": [
       "Text(0.5, 1.0, 'MSE on training data: 152.77581151311986\\nMSE on test data: 905922661054198.9')"
      ]
     },
     "execution_count": 76,
     "metadata": {
      "tags": []
     },
     "output_type": "execute_result"
    },
    {
     "data": {
      "image/png": "[encoded data removed]",
      "text/plain": [
       "<Figure size 432x288 with 1 Axes>"
      ]
     },
     "metadata": {
      "tags": []
     },
     "output_type": "display_data"
    }
   ],
   "source": [
    "poly = PolynomialFeatures(20)\n",
    "reg = LinMod.LinearRegression()\n",
    "X_trans = poly.fit_transform(X_train.reshape(-1,1))\n",
    "reg.fit(X_trans,y_train)\n",
    "\n",
    "weights = reg.coef_\n",
    "bias = reg.intercept_\n",
    "\n",
    "# plotting the polynomial fit\n",
    "y_pred = reg.predict(poly.fit_transform(X_test.reshape(-1,1)))\n",
    "plt.plot(X_train,y_train,'r.',label='Training data')\n",
    "plt.plot(X_train, reg.predict(X_trans),c='blue',label = 'Model') # polynomial fit represented by blue line\n",
    "\n",
    "# True Function\n",
    "plt.plot(np.linspace(1,14),f(np.linspace(1,14)),label='True Function',c='orange')\n",
    "plt.legend()\n",
    "\n",
    "plt.title(\n",
    "    label = \"MSE on training data: {}\".format(mean_squared_error(y_train,reg.predict(poly.fit_transform(X_train.reshape(-1,1))))) +\n",
    "    \"\\nMSE on test data: {}\".format(mean_squared_error(y_test,reg.predict(poly.fit_transform(X_test.reshape(-1,1)))))\n",
    ")\n"
   ]
  },
  {
   "cell_type": "markdown",
   "metadata": {
    "colab_type": "text",
    "id": "HIUC7Ukanw7W"
   },
   "source": [
    "### Review the concept of Bias and Variance Tradeoff\n",
    "While constructing models, one must be wary of neither underfitting nor overfitting their data. The problems of capturing the structure while ignoring the noise to make sure that we have a low-bias, low-variance model is key to preparing an optimal model. [Read more here.](https://towardsdatascience.com/understanding-the-bias-variance-tradeoff-165e6942b229)"
   ]
  },
  {
   "cell_type": "markdown",
   "metadata": {
    "colab_type": "text",
    "id": "evVH_-S9nd8l"
   },
   "source": [
    "## Regularization\n"
   ]
  },
  {
   "cell_type": "markdown",
   "metadata": {
    "colab_type": "text",
    "id": "KWmN179xpXik"
   },
   "source": [
    "All of the following algorithms have their own specific strengths and weaknesses. The above documentation has all the math-y details if you want to read more."
   ]
  },
  {
   "cell_type": "markdown",
   "metadata": {
    "colab_type": "text",
    "id": "pYKzg0g9A9h9"
   },
   "source": [
    "Here's [a comprehensive guide](https://www.analyticsvidhya.com/blog/2016/01/complete-tutorial-ridge-lasso-regression-python/) to understanding regularization."
   ]
  },
  {
   "cell_type": "markdown",
   "metadata": {
    "colab_type": "text",
    "id": "COHo2AKDKGtx"
   },
   "source": [
    "Now, we can try out other Regression Methods from the sklearn library.\n",
    "\n",
    "- LASSO Regression\n",
    "- Ridge Regression\n",
    "- ElasticNet\n",
    "\n",
    "We could also look into other error metrics available"
   ]
  },
  {
   "cell_type": "code",
   "execution_count": 0,
   "metadata": {
    "colab": {},
    "colab_type": "code",
    "id": "NwZSrmkMKGty"
   },
   "outputs": [],
   "source": [
    "from sklearn.metrics import mean_absolute_error"
   ]
  },
  {
   "cell_type": "code",
   "execution_count": 0,
   "metadata": {
    "colab": {},
    "colab_type": "code",
    "id": "svFkZRxN3Xtk"
   },
   "outputs": [],
   "source": [
    "# Reload the required data into dataframes"
   ]
  },
  {
   "cell_type": "markdown",
   "metadata": {
    "colab_type": "text",
    "id": "LEXyVnLkBdcn"
   },
   "source": [
    "### Data Preparation"
   ]
  },
  {
   "cell_type": "code",
   "execution_count": 0,
   "metadata": {
    "colab": {},
    "colab_type": "code",
    "id": "xawtXa_W3biK"
   },
   "outputs": [],
   "source": [
    "column_names = load_boston().feature_names\n",
    "housing = pd.DataFrame(load_boston().data, columns = column_names)\n",
    "target = load_boston().target\n",
    "# housing.head()\n",
    "\n",
    "X_train, X_test, y_train, y_test = train_test_split(housing, target, random_state=10,test_size=.3)"
   ]
  },
  {
   "cell_type": "markdown",
   "metadata": {
    "colab_type": "text",
    "id": "PLkmMhsiBk2d"
   },
   "source": [
    "### L1-Regularization"
   ]
  },
  {
   "cell_type": "code",
   "execution_count": 0,
   "metadata": {
    "colab": {
     "base_uri": "https://localhost:8080/",
     "height": 85
    },
    "colab_type": "code",
    "id": "EcTwrPPRKGuQ",
    "outputId": "1599b1d2-8478-4cff-e76b-792a5f1af750"
   },
   "outputs": [
    {
     "name": "stdout",
     "output_type": "stream",
     "text": [
      "Mean squared error with Lasso(): \n",
      " 29.32914811480178\n",
      "Mean absolute error with Lasso(): \n",
      " 3.7070871687603124\n"
     ]
    }
   ],
   "source": [
    "# importing the required regression algorithm\n",
    "from sklearn.linear_model import Lasso\n",
    "\n",
    "# learning\n",
    "regressor = Lasso(alpha = .0001)\n",
    "regressor.fit(X_train,y_train)\n",
    "y_pred = regressor.predict(X_test)\n",
    "\n",
    "# understanding error\n",
    "print(\"Mean squared error with Lasso(): \\n\",mean_squared_error(y_test, y_pred))\n",
    "print(\"Mean absolute error with Lasso(): \\n\",mean_absolute_error(y_test, y_pred))"
   ]
  },
  {
   "cell_type": "markdown",
   "metadata": {
    "colab_type": "text",
    "id": "xP58ndP9BqpS"
   },
   "source": [
    "### L2-Regularization"
   ]
  },
  {
   "cell_type": "code",
   "execution_count": 0,
   "metadata": {
    "colab": {
     "base_uri": "https://localhost:8080/",
     "height": 85
    },
    "colab_type": "code",
    "id": "3EUwBwJFKGuH",
    "outputId": "6af15bb7-eb1d-4e6f-c803-5183c3da81c6"
   },
   "outputs": [
    {
     "name": "stdout",
     "output_type": "stream",
     "text": [
      "Mean squared error with Ridge(): \n",
      " 29.326665438393704\n",
      "Mean absolute error with Ridge(): \n",
      " 3.7071255572110444\n"
     ]
    }
   ],
   "source": [
    "from sklearn.linear_model import Ridge\n",
    "\n",
    "regressor = Ridge(alpha = .0001)\n",
    "regressor.fit(X_train,y_train)\n",
    "y_pred = regressor.predict(X_test)\n",
    "\n",
    "print(\"Mean squared error with Ridge(): \\n\",mean_squared_error(y_test, y_pred))\n",
    "print(\"Mean absolute error with Ridge(): \\n\",mean_absolute_error(y_test, y_pred))"
   ]
  },
  {
   "cell_type": "markdown",
   "metadata": {
    "colab_type": "text",
    "id": "QH7HbAgNBxOC"
   },
   "source": [
    "### L1- and L2-Regularization together"
   ]
  },
  {
   "cell_type": "code",
   "execution_count": 0,
   "metadata": {
    "colab": {
     "base_uri": "https://localhost:8080/",
     "height": 139
    },
    "colab_type": "code",
    "id": "X77IVX0IKGuC",
    "outputId": "d5f8c273-a2b9-4289-ca5b-34ef9515c5a7"
   },
   "outputs": [
    {
     "name": "stdout",
     "output_type": "stream",
     "text": [
      "Mean squared error with ElasticNet(): \n",
      " 29.350995196512553\n",
      "Mean absolute error with ElasticNet(): \n",
      " 3.7072788300672572\n"
     ]
    },
    {
     "name": "stderr",
     "output_type": "stream",
     "text": [
      "/usr/local/lib/python3.6/dist-packages/sklearn/linear_model/coordinate_descent.py:492: ConvergenceWarning: Objective did not converge. You might want to increase the number of iterations. Fitting data with very small alpha may cause precision problems.\n",
      "  ConvergenceWarning)\n"
     ]
    }
   ],
   "source": [
    "from sklearn.linear_model import ElasticNet\n",
    "\n",
    "regressor = ElasticNet(alpha = .0001, l1_ratio = 1)\n",
    "regressor.fit(X_train,y_train)\n",
    "y_pred = regressor.predict(X_test)\n",
    "\n",
    "print(\"Mean squared error with ElasticNet(): \\n\",mean_squared_error(y_test, y_pred))\n",
    "print(\"Mean absolute error with ElasticNet(): \\n\",mean_absolute_error(y_test, y_pred))"
   ]
  },
  {
   "cell_type": "code",
   "execution_count": 0,
   "metadata": {
    "colab": {},
    "colab_type": "code",
    "id": "8WOgLrShGBZB"
   },
   "outputs": [],
   "source": []
  }
 ],
 "metadata": {
  "colab": {
   "collapsed_sections": [],
   "name": "Regression.ipynb",
   "provenance": [],
   "version": "0.3.2"
  },
  "kernelspec": {
   "display_name": "Python 3",
   "language": "python",
   "name": "python3"
  },
  "language_info": {
   "codemirror_mode": {
    "name": "ipython",
    "version": 3
   },
   "file_extension": ".py",
   "mimetype": "text/x-python",
   "name": "python",
   "nbconvert_exporter": "python",
   "pygments_lexer": "ipython3",
   "version": "3.7.3"
  }
 },
 "nbformat": 4,
 "nbformat_minor": 1
}
